{
 "cells": [
  {
   "cell_type": "markdown",
   "metadata": {},
   "source": [
    "### Veri Okuma\n",
    "\n",
    "Verimiz yaklaşık 13 milyon satır 5 sütundan oluştuğu için süreci pandas yerine polars kütüphanesi ile devam edeceğiz.\n",
    "\n",
    "Polars pandas kütüphanesin göre çok daha hızlı veri okuma hızına sahiptir."
   ]
  },
  {
   "cell_type": "code",
   "execution_count": 2,
   "metadata": {},
   "outputs": [
    {
     "name": "stdout",
     "output_type": "stream",
     "text": [
      "shape: (13_608_260, 5)\n",
      "┌──────────────────┬────────────┬─────────────────────┬───────────────────────────┬─────────────┐\n",
      "│ tarihSaat        ┆ otobusTuru ┆ biletGrubu          ┆ hat                       ┆ toplamBinis │\n",
      "│ ---              ┆ ---        ┆ ---                 ┆ ---                       ┆ ---         │\n",
      "│ str              ┆ str        ┆ str                 ┆ str                       ┆ i64         │\n",
      "╞══════════════════╪════════════╪═════════════════════╪═══════════════════════════╪═════════════╡\n",
      "│ 01/01/2021 00:00 ┆ EGO        ┆ TAM KART            ┆ 540 - ERYAMAN - SIHHİYE   ┆ 1           │\n",
      "│ 01/01/2021 00:00 ┆ EGO        ┆ TAM KART            ┆ 1832 - ULUS - İLKER SİNAN ┆ 1           │\n",
      "│                  ┆            ┆                     ┆ CADD…                     ┆             │\n",
      "│ 01/01/2021 00:00 ┆ EGO        ┆ TAM KART            ┆ 523 - SİNCAN - POLATLI 2. ┆ 1           │\n",
      "│                  ┆            ┆                     ┆ CAD.…                     ┆             │\n",
      "│ 01/01/2021 00:00 ┆ EGO        ┆ ÖĞRENCİ             ┆ 523 - SİNCAN - POLATLI 2. ┆ 1           │\n",
      "│                  ┆            ┆                     ┆ CAD.…                     ┆             │\n",
      "│ 01/01/2021 00:00 ┆ EGO        ┆ TAM KART            ┆ 514 - ÇİMŞİT - SIHHIYE    ┆ 2           │\n",
      "│ …                ┆ …          ┆ …                   ┆ …                         ┆ …           │\n",
      "│ 31/12/2021 23:00 ┆ EGO        ┆ ENGELLİ KART        ┆ 416 - AKTEPE - KAMİL OCAK ┆ 1           │\n",
      "│                  ┆            ┆                     ┆ MH. …                     ┆             │\n",
      "│ 31/12/2021 23:00 ┆ EGO        ┆ 65 YAŞ ÜSTÜ KART    ┆ 412 - AKTEPE - 1055 SK. - ┆ 1           │\n",
      "│                  ┆            ┆                     ┆ ÖZYU…                     ┆             │\n",
      "│ 31/12/2021 23:00 ┆ EGO        ┆ Bugsaş Personel     ┆ 5106 - SİNCAN - SIHHIYE   ┆ 1           │\n",
      "│ 31/12/2021 23:00 ┆ EGO        ┆ 65 YAŞ ÜSTÜ KART    ┆ 5881 - KORU METRO İST. -  ┆ 1           │\n",
      "│                  ┆            ┆                     ┆ YAPRA…                    ┆             │\n",
      "│ 31/12/2021 23:00 ┆ EGO        ┆ MANYETİK BİLET 4 TL ┆ 5302 - ETİMESGUT - HİKMET ┆ 1           │\n",
      "│                  ┆            ┆                     ┆ ÖZER…                     ┆             │\n",
      "└──────────────────┴────────────┴─────────────────────┴───────────────────────────┴─────────────┘\n"
     ]
    }
   ],
   "source": [
    "import polars as pl\n",
    "\n",
    "veri=pl.read_csv(\"hamveri.csv\")\n",
    "print(veri)"
   ]
  },
  {
   "cell_type": "markdown",
   "metadata": {},
   "source": [
    "### Eksik Gözlem Kontrol"
   ]
  },
  {
   "cell_type": "code",
   "execution_count": 3,
   "metadata": {},
   "outputs": [
    {
     "name": "stdout",
     "output_type": "stream",
     "text": [
      "shape: (1, 5)\n",
      "┌───────────┬────────────┬────────────┬─────┬─────────────┐\n",
      "│ tarihSaat ┆ otobusTuru ┆ biletGrubu ┆ hat ┆ toplamBinis │\n",
      "│ ---       ┆ ---        ┆ ---        ┆ --- ┆ ---         │\n",
      "│ u32       ┆ u32        ┆ u32        ┆ u32 ┆ u32         │\n",
      "╞═══════════╪════════════╪════════════╪═════╪═════════════╡\n",
      "│ 0         ┆ 0          ┆ 0          ┆ 0   ┆ 0           │\n",
      "└───────────┴────────────┴────────────┴─────┴─────────────┘\n"
     ]
    }
   ],
   "source": [
    "print(veri.select(pl.all().null_count()))"
   ]
  },
  {
   "cell_type": "markdown",
   "metadata": {},
   "source": [
    "###\n",
    "\n",
    "Tarih ve saat str cinsinde olduğu için tarih ve saat ayrımı yapamayız.\n",
    "Bu yüzden önce zaman formatına çevireceğiz ve daha sonra ayıracağız."
   ]
  },
  {
   "cell_type": "code",
   "execution_count": 4,
   "metadata": {},
   "outputs": [
    {
     "name": "stdout",
     "output_type": "stream",
     "text": [
      "shape: (13_608_260, 6)\n",
      "┌────────────┬─────────────────────┬────────────────────────────┬─────────────┬────────────┬───────┐\n",
      "│ otobusTuru ┆ biletGrubu          ┆ hat                        ┆ toplamBinis ┆ tarih      ┆ saat  │\n",
      "│ ---        ┆ ---                 ┆ ---                        ┆ ---         ┆ ---        ┆ ---   │\n",
      "│ str        ┆ str                 ┆ str                        ┆ i64         ┆ str        ┆ str   │\n",
      "╞════════════╪═════════════════════╪════════════════════════════╪═════════════╪════════════╪═══════╡\n",
      "│ EGO        ┆ TAM KART            ┆ 540 - ERYAMAN - SIHHİYE    ┆ 1           ┆ 01-01-2021 ┆ 00:00 │\n",
      "│ EGO        ┆ TAM KART            ┆ 1832 - ULUS - İLKER SİNAN  ┆ 1           ┆ 01-01-2021 ┆ 00:00 │\n",
      "│            ┆                     ┆ CADD…                      ┆             ┆            ┆       │\n",
      "│ EGO        ┆ TAM KART            ┆ 523 - SİNCAN - POLATLI 2.  ┆ 1           ┆ 01-01-2021 ┆ 00:00 │\n",
      "│            ┆                     ┆ CAD.…                      ┆             ┆            ┆       │\n",
      "│ EGO        ┆ ÖĞRENCİ             ┆ 523 - SİNCAN - POLATLI 2.  ┆ 1           ┆ 01-01-2021 ┆ 00:00 │\n",
      "│            ┆                     ┆ CAD.…                      ┆             ┆            ┆       │\n",
      "│ EGO        ┆ TAM KART            ┆ 514 - ÇİMŞİT - SIHHIYE     ┆ 2           ┆ 01-01-2021 ┆ 00:00 │\n",
      "│ …          ┆ …                   ┆ …                          ┆ …           ┆ …          ┆ …     │\n",
      "│ EGO        ┆ ENGELLİ KART        ┆ 416 - AKTEPE - KAMİL OCAK  ┆ 1           ┆ 31-12-2021 ┆ 23:00 │\n",
      "│            ┆                     ┆ MH. …                      ┆             ┆            ┆       │\n",
      "│ EGO        ┆ 65 YAŞ ÜSTÜ KART    ┆ 412 - AKTEPE - 1055 SK. -  ┆ 1           ┆ 31-12-2021 ┆ 23:00 │\n",
      "│            ┆                     ┆ ÖZYU…                      ┆             ┆            ┆       │\n",
      "│ EGO        ┆ Bugsaş Personel     ┆ 5106 - SİNCAN - SIHHIYE    ┆ 1           ┆ 31-12-2021 ┆ 23:00 │\n",
      "│ EGO        ┆ 65 YAŞ ÜSTÜ KART    ┆ 5881 - KORU METRO İST. -   ┆ 1           ┆ 31-12-2021 ┆ 23:00 │\n",
      "│            ┆                     ┆ YAPRA…                     ┆             ┆            ┆       │\n",
      "│ EGO        ┆ MANYETİK BİLET 4 TL ┆ 5302 - ETİMESGUT - HİKMET  ┆ 1           ┆ 31-12-2021 ┆ 23:00 │\n",
      "│            ┆                     ┆ ÖZER…                      ┆             ┆            ┆       │\n",
      "└────────────┴─────────────────────┴────────────────────────────┴─────────────┴────────────┴───────┘\n"
     ]
    }
   ],
   "source": [
    "veri=veri.with_columns(\n",
    "    pl.col(\"tarihSaat\").str.to_datetime().alias(\"tarihSaat\"))\n",
    "    \n",
    "veri=veri.with_columns([\n",
    "    pl.col(\"tarihSaat\").dt.strftime(\"%d-%m-%Y\").alias(\"tarih\"),\n",
    "    pl.col(\"tarihSaat\").dt.strftime(\"%H:%M\").alias(\"saat\")])\n",
    " \n",
    "veri=veri.drop(\"tarihSaat\")\n",
    "print(veri)"
   ]
  },
  {
   "cell_type": "markdown",
   "metadata": {},
   "source": [
    "###\n",
    "Hat numarası ve hat isimleri aynı sütunda. Bunları ayıralım."
   ]
  },
  {
   "cell_type": "code",
   "execution_count": 5,
   "metadata": {},
   "outputs": [
    {
     "name": "stdout",
     "output_type": "stream",
     "text": [
      "shape: (13_608_260, 7)\n",
      "┌────────────┬────────────────────┬─────────────┬────────────┬───────┬────────┬────────────────────┐\n",
      "│ otobusTuru ┆ biletGrubu         ┆ toplamBinis ┆ tarih      ┆ saat  ┆ hat_no ┆ hat_adı            │\n",
      "│ ---        ┆ ---                ┆ ---         ┆ ---        ┆ ---   ┆ ---    ┆ ---                │\n",
      "│ str        ┆ str                ┆ i64         ┆ str        ┆ str   ┆ str    ┆ str                │\n",
      "╞════════════╪════════════════════╪═════════════╪════════════╪═══════╪════════╪════════════════════╡\n",
      "│ EGO        ┆ TAM KART           ┆ 1           ┆ 01-01-2021 ┆ 00:00 ┆ 540    ┆  ERYAMAN - SIHHİYE │\n",
      "│ EGO        ┆ TAM KART           ┆ 1           ┆ 01-01-2021 ┆ 00:00 ┆ 1832   ┆ ULUS - İLKER SİNAN │\n",
      "│            ┆                    ┆             ┆            ┆       ┆        ┆ CADDE              │\n",
      "│ EGO        ┆ TAM KART           ┆ 1           ┆ 01-01-2021 ┆ 00:00 ┆ 523    ┆ SİNCAN - POLATLI   │\n",
      "│            ┆                    ┆             ┆            ┆       ┆        ┆ 2. CAD. - SI…      │\n",
      "│ EGO        ┆ ÖĞRENCİ            ┆ 1           ┆ 01-01-2021 ┆ 00:00 ┆ 523    ┆ SİNCAN - POLATLI   │\n",
      "│            ┆                    ┆             ┆            ┆       ┆        ┆ 2. CAD. - SI…      │\n",
      "│ EGO        ┆ TAM KART           ┆ 2           ┆ 01-01-2021 ┆ 00:00 ┆ 514    ┆  ÇİMŞİT - SIHHIYE  │\n",
      "│ …          ┆ …                  ┆ …           ┆ …          ┆ …     ┆ …      ┆ …                  │\n",
      "│ EGO        ┆ ENGELLİ KART       ┆ 1           ┆ 31-12-2021 ┆ 23:00 ┆ 416    ┆ AKTEPE - KAMİL     │\n",
      "│            ┆                    ┆             ┆            ┆       ┆        ┆ OCAK MH. - FEL…    │\n",
      "│ EGO        ┆ 65 YAŞ ÜSTÜ KART   ┆ 1           ┆ 31-12-2021 ┆ 23:00 ┆ 412    ┆ AKTEPE - 1055 SK.  │\n",
      "│            ┆                    ┆             ┆            ┆       ┆        ┆ - ÖZYURT CD…       │\n",
      "│ EGO        ┆ Bugsaş Personel    ┆ 1           ┆ 31-12-2021 ┆ 23:00 ┆ 5106   ┆  SİNCAN - SIHHIYE  │\n",
      "│ EGO        ┆ 65 YAŞ ÜSTÜ KART   ┆ 1           ┆ 31-12-2021 ┆ 23:00 ┆ 5881   ┆ KORU METRO İST. -  │\n",
      "│            ┆                    ┆             ┆            ┆       ┆        ┆ YAPRACIK TO…       │\n",
      "│ EGO        ┆ MANYETİK BİLET 4   ┆ 1           ┆ 31-12-2021 ┆ 23:00 ┆ 5302   ┆ ETİMESGUT - HİKMET │\n",
      "│            ┆ TL                 ┆             ┆            ┆       ┆        ┆ ÖZER CD - …        │\n",
      "└────────────┴────────────────────┴─────────────┴────────────┴───────┴────────┴────────────────────┘\n"
     ]
    }
   ],
   "source": [
    "veri=veri.with_columns([\n",
    "    pl.col(\"hat\").str.split(\"-\").list.get(0).alias(\"hat_no\"), \n",
    "    pl.col(\"hat\").str.split(\"-\").list.slice(1).list.join(\"-\").alias(\"hat_adı\")])\n",
    "\n",
    "veri=veri.drop(\"hat\")\n",
    "print(veri)\n"
   ]
  },
  {
   "cell_type": "markdown",
   "metadata": {},
   "source": [
    "### \n",
    "Ankara'da hat numaraları 3 hanelidir. 3 den fazla hane var ise hattın farklı türleridir ve \"-\" ile ayrılır.\n",
    "Örneğin 5106 hat numarası 510-6 şeklindedir. Ancak veri setimizde 4 hane geldiği için bunları düzeltmemiz lazım."
   ]
  },
  {
   "cell_type": "code",
   "execution_count": 6,
   "metadata": {},
   "outputs": [
    {
     "name": "stdout",
     "output_type": "stream",
     "text": [
      "shape: (13_608_260, 7)\n",
      "┌────────────┬────────────────────┬─────────────┬────────────┬───────┬────────┬────────────────────┐\n",
      "│ otobusTuru ┆ biletGrubu         ┆ toplamBinis ┆ tarih      ┆ saat  ┆ hat_no ┆ hat_adı            │\n",
      "│ ---        ┆ ---                ┆ ---         ┆ ---        ┆ ---   ┆ ---    ┆ ---                │\n",
      "│ str        ┆ str                ┆ i64         ┆ str        ┆ str   ┆ str    ┆ str                │\n",
      "╞════════════╪════════════════════╪═════════════╪════════════╪═══════╪════════╪════════════════════╡\n",
      "│ EGO        ┆ TAM KART           ┆ 1           ┆ 01-01-2021 ┆ 00:00 ┆ 540    ┆  ERYAMAN - SIHHİYE │\n",
      "│ EGO        ┆ TAM KART           ┆ 1           ┆ 01-01-2021 ┆ 00:00 ┆ 183-2  ┆ ULUS - İLKER SİNAN │\n",
      "│            ┆                    ┆             ┆            ┆       ┆        ┆ CADDE              │\n",
      "│ EGO        ┆ TAM KART           ┆ 1           ┆ 01-01-2021 ┆ 00:00 ┆ 523    ┆ SİNCAN - POLATLI   │\n",
      "│            ┆                    ┆             ┆            ┆       ┆        ┆ 2. CAD. - SI…      │\n",
      "│ EGO        ┆ ÖĞRENCİ            ┆ 1           ┆ 01-01-2021 ┆ 00:00 ┆ 523    ┆ SİNCAN - POLATLI   │\n",
      "│            ┆                    ┆             ┆            ┆       ┆        ┆ 2. CAD. - SI…      │\n",
      "│ EGO        ┆ TAM KART           ┆ 2           ┆ 01-01-2021 ┆ 00:00 ┆ 514    ┆  ÇİMŞİT - SIHHIYE  │\n",
      "│ …          ┆ …                  ┆ …           ┆ …          ┆ …     ┆ …      ┆ …                  │\n",
      "│ EGO        ┆ ENGELLİ KART       ┆ 1           ┆ 31-12-2021 ┆ 23:00 ┆ 416    ┆ AKTEPE - KAMİL     │\n",
      "│            ┆                    ┆             ┆            ┆       ┆        ┆ OCAK MH. - FEL…    │\n",
      "│ EGO        ┆ 65 YAŞ ÜSTÜ KART   ┆ 1           ┆ 31-12-2021 ┆ 23:00 ┆ 412    ┆ AKTEPE - 1055 SK.  │\n",
      "│            ┆                    ┆             ┆            ┆       ┆        ┆ - ÖZYURT CD…       │\n",
      "│ EGO        ┆ Bugsaş Personel    ┆ 1           ┆ 31-12-2021 ┆ 23:00 ┆ 510-6  ┆  SİNCAN - SIHHIYE  │\n",
      "│ EGO        ┆ 65 YAŞ ÜSTÜ KART   ┆ 1           ┆ 31-12-2021 ┆ 23:00 ┆ 588-1  ┆ KORU METRO İST. -  │\n",
      "│            ┆                    ┆             ┆            ┆       ┆        ┆ YAPRACIK TO…       │\n",
      "│ EGO        ┆ MANYETİK BİLET 4   ┆ 1           ┆ 31-12-2021 ┆ 23:00 ┆ 530-2  ┆ ETİMESGUT - HİKMET │\n",
      "│            ┆ TL                 ┆             ┆            ┆       ┆        ┆ ÖZER CD - …        │\n",
      "└────────────┴────────────────────┴─────────────┴────────────┴───────┴────────┴────────────────────┘\n"
     ]
    }
   ],
   "source": [
    "veri=veri.with_columns(\n",
    "    pl.col(\"hat_no\").str.strip_chars().alias(\"hat_no\"))\n",
    "\n",
    "veri=veri.with_columns(\n",
    "    pl.col(\"hat_no\").map_elements(lambda x: f\"{x[:3]}-{x[3:]}\" if len(x)>3 else x,\n",
    "                                  return_dtype=pl.Utf8).alias(\"hat_no\"))\n",
    "\n",
    "print(veri)"
   ]
  },
  {
   "cell_type": "markdown",
   "metadata": {},
   "source": [
    "### \n",
    "Hat verilerini kullanarak süre ve mesafeyi de ekleyelim."
   ]
  },
  {
   "cell_type": "code",
   "execution_count": 7,
   "metadata": {},
   "outputs": [
    {
     "name": "stdout",
     "output_type": "stream",
     "text": [
      "shape: (13_608_260, 9)\n",
      "┌────────────┬────────────┬────────────┬────────────┬───┬────────┬────────────┬────────┬───────────┐\n",
      "│ otobusTuru ┆ biletGrubu ┆ toplamBini ┆ tarih      ┆ … ┆ hat_no ┆ hat_adı    ┆ Mesafe ┆ Süre      │\n",
      "│ ---        ┆ ---        ┆ s          ┆ ---        ┆   ┆ ---    ┆ ---        ┆ (Km)   ┆ (Dakika)  │\n",
      "│ str        ┆ str        ┆ ---        ┆ str        ┆   ┆ str    ┆ str        ┆ ---    ┆ ---       │\n",
      "│            ┆            ┆ i64        ┆            ┆   ┆        ┆            ┆ i64    ┆ i64       │\n",
      "╞════════════╪════════════╪════════════╪════════════╪═══╪════════╪════════════╪════════╪═══════════╡\n",
      "│ EGO        ┆ TAM KART   ┆ 1          ┆ 01-01-2021 ┆ … ┆ 540    ┆ ERYAMAN -  ┆ 62     ┆ 105       │\n",
      "│            ┆            ┆            ┆            ┆   ┆        ┆ SIHHİYE    ┆        ┆           │\n",
      "│ EGO        ┆ TAM KART   ┆ 1          ┆ 01-01-2021 ┆ … ┆ 183-2  ┆ ULUS -     ┆ 15     ┆ 45        │\n",
      "│            ┆            ┆            ┆            ┆   ┆        ┆ İLKER      ┆        ┆           │\n",
      "│            ┆            ┆            ┆            ┆   ┆        ┆ SİNAN      ┆        ┆           │\n",
      "│            ┆            ┆            ┆            ┆   ┆        ┆ CADDE      ┆        ┆           │\n",
      "│ EGO        ┆ TAM KART   ┆ 1          ┆ 01-01-2021 ┆ … ┆ 523    ┆ SİNCAN -   ┆ 63     ┆ 115       │\n",
      "│            ┆            ┆            ┆            ┆   ┆        ┆ POLATLI 2. ┆        ┆           │\n",
      "│            ┆            ┆            ┆            ┆   ┆        ┆ CAD. - SI… ┆        ┆           │\n",
      "│ EGO        ┆ ÖĞRENCİ    ┆ 1          ┆ 01-01-2021 ┆ … ┆ 523    ┆ SİNCAN -   ┆ 63     ┆ 115       │\n",
      "│            ┆            ┆            ┆            ┆   ┆        ┆ POLATLI 2. ┆        ┆           │\n",
      "│            ┆            ┆            ┆            ┆   ┆        ┆ CAD. - SI… ┆        ┆           │\n",
      "│ EGO        ┆ TAM KART   ┆ 2          ┆ 01-01-2021 ┆ … ┆ 514    ┆ ÇİMŞİT -   ┆ 65     ┆ 110       │\n",
      "│            ┆            ┆            ┆            ┆   ┆        ┆ SIHHIYE    ┆        ┆           │\n",
      "│ …          ┆ …          ┆ …          ┆ …          ┆ … ┆ …      ┆ …          ┆ …      ┆ …         │\n",
      "│ EGO        ┆ ENGELLİ    ┆ 1          ┆ 31-12-2021 ┆ … ┆ 416    ┆ AKTEPE -   ┆ 9      ┆ 20        │\n",
      "│            ┆ KART       ┆            ┆            ┆   ┆        ┆ KAMİL OCAK ┆        ┆           │\n",
      "│            ┆            ┆            ┆            ┆   ┆        ┆ MH. - FEL… ┆        ┆           │\n",
      "│ EGO        ┆ 65 YAŞ     ┆ 1          ┆ 31-12-2021 ┆ … ┆ 412    ┆ AKTEPE -   ┆ 5      ┆ 20        │\n",
      "│            ┆ ÜSTÜ KART  ┆            ┆            ┆   ┆        ┆ 1055 SK. - ┆        ┆           │\n",
      "│            ┆            ┆            ┆            ┆   ┆        ┆ ÖZYURT CD… ┆        ┆           │\n",
      "│ EGO        ┆ Bugsaş     ┆ 1          ┆ 31-12-2021 ┆ … ┆ 510-6  ┆ SİNCAN -   ┆ 62     ┆ 110       │\n",
      "│            ┆ Personel   ┆            ┆            ┆   ┆        ┆ SIHHIYE    ┆        ┆           │\n",
      "│ EGO        ┆ 65 YAŞ     ┆ 1          ┆ 31-12-2021 ┆ … ┆ 588-1  ┆ KORU METRO ┆ 52     ┆ 45        │\n",
      "│            ┆ ÜSTÜ KART  ┆            ┆            ┆   ┆        ┆ İST. -     ┆        ┆           │\n",
      "│            ┆            ┆            ┆            ┆   ┆        ┆ YAPRACIK   ┆        ┆           │\n",
      "│            ┆            ┆            ┆            ┆   ┆        ┆ TO…        ┆        ┆           │\n",
      "│ EGO        ┆ MANYETİK   ┆ 1          ┆ 31-12-2021 ┆ … ┆ 530-2  ┆ ETİMESGUT  ┆ 36     ┆ 70        │\n",
      "│            ┆ BİLET 4 TL ┆            ┆            ┆   ┆        ┆ - HİKMET   ┆        ┆           │\n",
      "│            ┆            ┆            ┆            ┆   ┆        ┆ ÖZER CD -  ┆        ┆           │\n",
      "│            ┆            ┆            ┆            ┆   ┆        ┆ …          ┆        ┆           │\n",
      "└────────────┴────────────┴────────────┴────────────┴───┴────────┴────────────┴────────┴───────────┘\n"
     ]
    }
   ],
   "source": [
    "hatveri=pl.read_csv(\"hatbilgiveri.csv\")\n",
    "\n",
    "veri=veri.join(hatveri,on=\"hat_no\",how=\"left\")\n",
    "print(veri)"
   ]
  },
  {
   "cell_type": "markdown",
   "metadata": {},
   "source": [
    "###\n",
    "\n",
    "Sütun isimlerini değiştirelim"
   ]
  },
  {
   "cell_type": "code",
   "execution_count": 8,
   "metadata": {},
   "outputs": [
    {
     "name": "stdout",
     "output_type": "stream",
     "text": [
      "shape: (13_608_260, 9)\n",
      "┌────────────┬───────┬────────┬───────────────┬───┬──────────────┬───────┬──────────┬──────────────┐\n",
      "│ Tarih      ┆ Saat  ┆ Hat No ┆ Hat Adı       ┆ … ┆ Bilet Türü   ┆ Biniş ┆ Süre     ┆ Mesafe (Km)  │\n",
      "│ ---        ┆ ---   ┆ ---    ┆ ---           ┆   ┆ ---          ┆ Adeti ┆ (Dakika) ┆ ---          │\n",
      "│ str        ┆ str   ┆ str    ┆ str           ┆   ┆ str          ┆ ---   ┆ ---      ┆ i64          │\n",
      "│            ┆       ┆        ┆               ┆   ┆              ┆ i64   ┆ i64      ┆              │\n",
      "╞════════════╪═══════╪════════╪═══════════════╪═══╪══════════════╪═══════╪══════════╪══════════════╡\n",
      "│ 01-01-2021 ┆ 00:00 ┆ 540    ┆ ERYAMAN -     ┆ … ┆ TAM KART     ┆ 1     ┆ 105      ┆ 62           │\n",
      "│            ┆       ┆        ┆ SIHHİYE       ┆   ┆              ┆       ┆          ┆              │\n",
      "│ 01-01-2021 ┆ 00:00 ┆ 183-2  ┆ ULUS - İLKER  ┆ … ┆ TAM KART     ┆ 1     ┆ 45       ┆ 15           │\n",
      "│            ┆       ┆        ┆ SİNAN CADDE   ┆   ┆              ┆       ┆          ┆              │\n",
      "│ 01-01-2021 ┆ 00:00 ┆ 523    ┆ SİNCAN -      ┆ … ┆ TAM KART     ┆ 1     ┆ 115      ┆ 63           │\n",
      "│            ┆       ┆        ┆ POLATLI 2.    ┆   ┆              ┆       ┆          ┆              │\n",
      "│            ┆       ┆        ┆ CAD. - SI…    ┆   ┆              ┆       ┆          ┆              │\n",
      "│ 01-01-2021 ┆ 00:00 ┆ 523    ┆ SİNCAN -      ┆ … ┆ ÖĞRENCİ      ┆ 1     ┆ 115      ┆ 63           │\n",
      "│            ┆       ┆        ┆ POLATLI 2.    ┆   ┆              ┆       ┆          ┆              │\n",
      "│            ┆       ┆        ┆ CAD. - SI…    ┆   ┆              ┆       ┆          ┆              │\n",
      "│ 01-01-2021 ┆ 00:00 ┆ 514    ┆ ÇİMŞİT -      ┆ … ┆ TAM KART     ┆ 2     ┆ 110      ┆ 65           │\n",
      "│            ┆       ┆        ┆ SIHHIYE       ┆   ┆              ┆       ┆          ┆              │\n",
      "│ …          ┆ …     ┆ …      ┆ …             ┆ … ┆ …            ┆ …     ┆ …        ┆ …            │\n",
      "│ 31-12-2021 ┆ 23:00 ┆ 416    ┆ AKTEPE -      ┆ … ┆ ENGELLİ KART ┆ 1     ┆ 20       ┆ 9            │\n",
      "│            ┆       ┆        ┆ KAMİL OCAK    ┆   ┆              ┆       ┆          ┆              │\n",
      "│            ┆       ┆        ┆ MH. - FEL…    ┆   ┆              ┆       ┆          ┆              │\n",
      "│ 31-12-2021 ┆ 23:00 ┆ 412    ┆ AKTEPE - 1055 ┆ … ┆ 65 YAŞ ÜSTÜ  ┆ 1     ┆ 20       ┆ 5            │\n",
      "│            ┆       ┆        ┆ SK. - ÖZYURT  ┆   ┆ KART         ┆       ┆          ┆              │\n",
      "│            ┆       ┆        ┆ CD…           ┆   ┆              ┆       ┆          ┆              │\n",
      "│ 31-12-2021 ┆ 23:00 ┆ 510-6  ┆ SİNCAN -      ┆ … ┆ Bugsaş       ┆ 1     ┆ 110      ┆ 62           │\n",
      "│            ┆       ┆        ┆ SIHHIYE       ┆   ┆ Personel     ┆       ┆          ┆              │\n",
      "│ 31-12-2021 ┆ 23:00 ┆ 588-1  ┆ KORU METRO    ┆ … ┆ 65 YAŞ ÜSTÜ  ┆ 1     ┆ 45       ┆ 52           │\n",
      "│            ┆       ┆        ┆ İST. -        ┆   ┆ KART         ┆       ┆          ┆              │\n",
      "│            ┆       ┆        ┆ YAPRACIK TO…  ┆   ┆              ┆       ┆          ┆              │\n",
      "│ 31-12-2021 ┆ 23:00 ┆ 530-2  ┆ ETİMESGUT -   ┆ … ┆ MANYETİK     ┆ 1     ┆ 70       ┆ 36           │\n",
      "│            ┆       ┆        ┆ HİKMET ÖZER   ┆   ┆ BİLET 4 TL   ┆       ┆          ┆              │\n",
      "│            ┆       ┆        ┆ CD - …        ┆   ┆              ┆       ┆          ┆              │\n",
      "└────────────┴───────┴────────┴───────────────┴───┴──────────────┴───────┴──────────┴──────────────┘\n"
     ]
    }
   ],
   "source": [
    "veri=(\n",
    "    veri.rename({\n",
    "        \"otobusTuru\":\"Araç Türü\",\n",
    "        \"biletGrubu\":\"Bilet Türü\",\n",
    "        \"toplamBinis\":\"Biniş Adeti\",\n",
    "        \"tarih\":\"Tarih\",\n",
    "        \"saat\":\"Saat\",\n",
    "        \"hat_no\":\"Hat No\",\n",
    "        \"hat_adı\":\"Hat Adı\"    \n",
    "    })\n",
    "    .select([\n",
    "        \"Tarih\",\"Saat\",\"Hat No\",\"Hat Adı\",\n",
    "        \"Araç Türü\",\"Bilet Türü\",\"Biniş Adeti\",\n",
    "        \"Süre (Dakika)\",\n",
    "        \"Mesafe (Km)\"]))\n",
    "print(veri)"
   ]
  },
  {
   "cell_type": "markdown",
   "metadata": {},
   "source": [
    "###\n",
    "Verimiz artık nihai verisetimiz olarak kaydedelim."
   ]
  },
  {
   "cell_type": "code",
   "execution_count": 9,
   "metadata": {},
   "outputs": [],
   "source": [
    "\n",
    "veri.write_csv(\"nihaiveri.csv\")"
   ]
  }
 ],
 "metadata": {
  "kernelspec": {
   "display_name": "Python 3",
   "language": "python",
   "name": "python3"
  },
  "language_info": {
   "codemirror_mode": {
    "name": "ipython",
    "version": 3
   },
   "file_extension": ".py",
   "mimetype": "text/x-python",
   "name": "python",
   "nbconvert_exporter": "python",
   "pygments_lexer": "ipython3",
   "version": "3.12.6"
  }
 },
 "nbformat": 4,
 "nbformat_minor": 2
}
